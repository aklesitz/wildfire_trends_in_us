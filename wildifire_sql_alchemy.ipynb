{
 "cells": [
  {
   "cell_type": "code",
   "execution_count": 3,
   "id": "3530c7c3-5b8c-437e-b4b7-994d1c7fe140",
   "metadata": {},
   "outputs": [
    {
     "name": "stdin",
     "output_type": "stream",
     "text": [
      "what file would you like to install:  total_fires_92_20.csv\n"
     ]
    },
    {
     "name": "stderr",
     "output_type": "stream",
     "text": [
      "C:\\Users\\akles\\AppData\\Local\\Temp\\ipykernel_1940\\569676148.py:7: DtypeWarning: Columns (8,10,11,12,13,14,15,16,17,24,34) have mixed types. Specify dtype option on import or set low_memory=False.\n",
      "  df = pd.read_csv(csv)\n"
     ]
    },
    {
     "name": "stdout",
     "output_type": "stream",
     "text": [
      "(2303566, 36)\n"
     ]
    },
    {
     "name": "stdin",
     "output_type": "stream",
     "text": [
      "engine:  postgresql\n",
      "user:  postgres\n",
      "password:  a\n",
      "address:  localhost\n",
      "port:  5433\n",
      "database:  Wiildfires\n",
      "name of table:  wildfires\n"
     ]
    }
   ],
   "source": [
    "import pandas as pd\n",
    "import numpy as np\n",
    "import datetime as dt\n",
    "from sqlalchemy import create_engine\n",
    "\n",
    "def createdf(csv):\n",
    "    df = pd.read_csv(csv)\n",
    "    print(df.shape)\n",
    "    return df\n",
    "\n",
    "def createengine(eng, usr, pas, address, port, db):\n",
    "    engine = create_engine(f'{eng}://{usr}:{pas}@{address}:{port}/{db}')\n",
    "    return engine.connect()\n",
    "\n",
    "def dataload(connection, table_name, df):\n",
    "    df.to_sql(table_name, connection, if_exists='replace', chunksize=1000)\n",
    "    \n",
    "def main():\n",
    "    csv = input('what file would you like to install: ')\n",
    "    df = createdf(csv)\n",
    "    eng = input('engine: ')\n",
    "    usr = input('user: ')\n",
    "    password = input('password: ')\n",
    "    address = input('address: ')\n",
    "    port = input('port: ')\n",
    "    db = input('database: ')\n",
    "    connection = createengine(eng, usr, password, address, port, db)\n",
    "    table_name = input('name of table: ')\n",
    "    dataload(connection, table_name, df)\n",
    "    connection.close()\n",
    "    \n",
    "main()"
   ]
  },
  {
   "cell_type": "code",
   "execution_count": null,
   "id": "e2603947-51f5-433d-8813-2f2a99c7a9ad",
   "metadata": {},
   "outputs": [],
   "source": []
  }
 ],
 "metadata": {
  "kernelspec": {
   "display_name": "Python 3 (ipykernel)",
   "language": "python",
   "name": "python3"
  },
  "language_info": {
   "codemirror_mode": {
    "name": "ipython",
    "version": 3
   },
   "file_extension": ".py",
   "mimetype": "text/x-python",
   "name": "python",
   "nbconvert_exporter": "python",
   "pygments_lexer": "ipython3",
   "version": "3.9.13"
  }
 },
 "nbformat": 4,
 "nbformat_minor": 5
}
